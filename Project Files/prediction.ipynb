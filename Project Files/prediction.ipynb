{
 "cells": [
  {
   "cell_type": "code",
   "execution_count": 1,
   "id": "1d7dfbd5-ff72-4e42-bba9-3db611d8388e",
   "metadata": {},
   "outputs": [
    {
     "name": "stdout",
     "output_type": "stream",
     "text": [
      "Prediction: Liver Disease\n",
      "Probability of Liver Disease: 99.05%\n"
     ]
    }
   ],
   "source": [
    "import pandas as pd\n",
    "import joblib\n",
    "\n",
    "# Load model and feature list\n",
    "model = joblib.load('best_model_xgboost.pkl')\n",
    "model_features = joblib.load('model_features_list.pkl')\n",
    "\n",
    "# Your new sample as a dictionary (fill in your values)\n",
    "new_sample_raw = { 'S.NO': 1,\n",
    "    'Age': 55,\n",
    "    'Duration of alcohol consumption(years)': 10,\n",
    "    'Quantity of alcohol consumption (quarters/day)': 2,\n",
    "    'TCH': 200,\n",
    "    'HDL': 45,\n",
    "    # ... fill in all 42 original columns with your values\n",
    "    'Gender': 'male',\n",
    "    'Place(location where the patient lives)': 'urban',\n",
    "    'Type of alcohol consumed': 'branded liquor',\n",
    "    'Hepatitis B infection': 'positive',\n",
    "    'Hepatitis C infection': 'negative',\n",
    "    'Diabetes Result': 'YES',\n",
    "    'Blood pressure (mmhg)': '120/80',\n",
    "    # ... and so on\n",
    "}\n",
    "\n",
    "# Convert to DataFrame and preprocess\n",
    "new_sample_df = pd.DataFrame([new_sample_raw])\n",
    "new_sample_encoded = pd.get_dummies(new_sample_df)\n",
    "\n",
    "# Efficiently align columns\n",
    "new_sample_encoded = new_sample_encoded.reindex(columns=model_features, fill_value=0)\n",
    "\n",
    "# Predict\n",
    "prediction = model.predict(new_sample_encoded)[0]\n",
    "probability = model.predict_proba(new_sample_encoded)[0][1]\n",
    "\n",
    "print(\"Prediction:\", \"Liver Disease\" if prediction == 1 else \"No Liver Disease\")\n",
    "print(\"Probability of Liver Disease: {:.2f}%\".format(probability * 100))"
   ]
  },
  {
   "cell_type": "code",
   "execution_count": 2,
   "id": "3a695e68-8bb3-4dba-9ece-9808a3a8db35",
   "metadata": {},
   "outputs": [
    {
     "name": "stdout",
     "output_type": "stream",
     "text": [
      "Prediction: Liver Disease\n",
      "Probability of Liver Disease: 66.41%\n"
     ]
    }
   ],
   "source": [
    "import pandas as pd\n",
    "import joblib\n",
    "\n",
    "# Load model and feature list\n",
    "model = joblib.load('best_model_xgboost.pkl')\n",
    "model_features = joblib.load('model_features_list.pkl')\n",
    "\n",
    "# Your new sample as a dictionary (fill in your values)\n",
    "new_sample_raw = { 'S.NO': 950,\n",
    "    'Age': 52,\n",
    "    'Duration of alcohol consumption(years)': 8,\n",
    "    'Quantity of alcohol consumption (quarters/day)': 3,\n",
    "    'TCH': 180,\n",
    "    'HDL': 30,\n",
    "    # ... fill in all 42 original columns with your values\n",
    "    'Gender': 'male',\n",
    "    'Place(location where the patient lives)': 'rural',\n",
    "    'Type of alcohol consumed': 'country liquor',\n",
    "    'Hepatitis B infection': 'positive',\n",
    "    'Hepatitis C infection': 'positive',\n",
    "    'Diabetes Result': 'NO',\n",
    "    'Blood pressure (mmhg)': '110/70',\n",
    "    # ... and so on\n",
    "}\n",
    "\n",
    "# Convert to DataFrame and preprocess\n",
    "new_sample_df = pd.DataFrame([new_sample_raw])\n",
    "new_sample_encoded = pd.get_dummies(new_sample_df)\n",
    "\n",
    "# Efficiently align columns\n",
    "new_sample_encoded = new_sample_encoded.reindex(columns=model_features, fill_value=0)\n",
    "\n",
    "# Predict\n",
    "prediction = model.predict(new_sample_encoded)[0]\n",
    "probability = model.predict_proba(new_sample_encoded)[0][1]\n",
    "\n",
    "print(\"Prediction:\", \"Liver Disease\" if prediction == 1 else \"No Liver Disease\")\n",
    "print(\"Probability of Liver Disease: {:.2f}%\".format(probability * 100))"
   ]
  },
  {
   "cell_type": "code",
   "execution_count": 1,
   "id": "be8ba4c6-4555-45e2-a629-97c1ae478b0b",
   "metadata": {},
   "outputs": [
    {
     "name": "stdout",
     "output_type": "stream",
     "text": [
      "Prediction: Liver Disease\n",
      "Probability of Liver Disease: 94.65%\n"
     ]
    }
   ],
   "source": [
    "import pandas as pd\n",
    "import joblib\n",
    "\n",
    "# 1. Load your trained model and feature list\n",
    "model = joblib.load('best_model_xgboost.pkl')\n",
    "model_features = joblib.load('model_features_list.pkl')\n",
    "\n",
    "# 2. Create a healthy sample (update values as appropriate for your data)\n",
    "healthy_sample_raw = {\n",
    "    'S.NO': 1,\n",
    "    'Age': 28,\n",
    "    'Duration of alcohol consumption(years)': 0,\n",
    "    'Quantity of alcohol consumption (quarters/day)': 0,\n",
    "    'TCH': 170,\n",
    "    'HDL': 55,\n",
    "    'Hemoglobin  (g/dl)': 14.5,\n",
    "    'PCV  (%)': 44,\n",
    "    'RBC  (million cells/microliter)': 5.2,\n",
    "    'MCV   (femtoliters/cell)': 88,\n",
    "    'MCH  (picograms/cell)': 29,\n",
    "    'MCHC  (grams/deciliter)': 33,\n",
    "    'Total Count': 7500,\n",
    "    'Polymorphs  (%)': 58,\n",
    "    'Lymphocytes  (%)': 34,\n",
    "    'Monocytes   (%)': 6,\n",
    "    'Eosinophils   (%)': 1,\n",
    "    'Basophils  (%)': 1,\n",
    "    'Platelet Count  (lakhs/mm)': 2.6,\n",
    "    'Direct    (mg/dl)': 0.1,\n",
    "    'Indirect     (mg/dl)': 0.5,\n",
    "    'Total Protein     (g/dl)': 7.2,\n",
    "    'Albumin   (g/dl)': 4.6,\n",
    "    'Globulin  (g/dl)': 2.6,\n",
    "    'AL.Phosphatase      (U/L)': 85,\n",
    "    'SGOT/AST      (U/L)': 24,\n",
    "    'SGPT/ALT (U/L)': 28,\n",
    "    'Gender': 'male',\n",
    "    'Place(location where the patient lives)': 'urban',\n",
    "    'Type of alcohol consumed': 'branded liquor',  # or 'none' if that's a valid value\n",
    "    'Hepatitis B infection': 'negative',\n",
    "    'Hepatitis C infection': 'negative',\n",
    "    'Diabetes Result': 'NO',\n",
    "    'Blood pressure (mmhg)': '120/80',\n",
    "    'Obesity': 'no',\n",
    "    'Family history of cirrhosis/ hereditary': 'no',\n",
    "    'TG': 120,\n",
    "    'LDL': 90,\n",
    "    'USG Abdomen (diffuse liver or  not)': 'no'\n",
    "    # Add other fields as needed, matching your original columns\n",
    "}\n",
    "\n",
    "# 3. Convert to DataFrame and preprocess (one-hot encoding)\n",
    "healthy_sample_df = pd.DataFrame([healthy_sample_raw])\n",
    "healthy_sample_encoded = pd.get_dummies(healthy_sample_df)\n",
    "\n",
    "# 4. Align columns with model features (add missing columns as 0, ensure order)\n",
    "healthy_sample_encoded = healthy_sample_encoded.reindex(columns=model_features, fill_value=0)\n",
    "\n",
    "# 5. Predict\n",
    "prediction = model.predict(healthy_sample_encoded)[0]\n",
    "probability = model.predict_proba(healthy_sample_encoded)[0][1]\n",
    "\n",
    "print(\"Prediction:\", \"Liver Disease\" if prediction == 1 else \"No Liver Disease\")\n",
    "print(\"Probability of Liver Disease: {:.2f}%\".format(probability * 100))"
   ]
  },
  {
   "cell_type": "code",
   "execution_count": null,
   "id": "a2a06dde-a96b-4423-b6ab-9d6cf34a52ae",
   "metadata": {},
   "outputs": [],
   "source": []
  }
 ],
 "metadata": {
  "kernelspec": {
   "display_name": "Python 3 (ipykernel)",
   "language": "python",
   "name": "python3"
  },
  "language_info": {
   "codemirror_mode": {
    "name": "ipython",
    "version": 3
   },
   "file_extension": ".py",
   "mimetype": "text/x-python",
   "name": "python",
   "nbconvert_exporter": "python",
   "pygments_lexer": "ipython3",
   "version": "3.12.7"
  }
 },
 "nbformat": 4,
 "nbformat_minor": 5
}
